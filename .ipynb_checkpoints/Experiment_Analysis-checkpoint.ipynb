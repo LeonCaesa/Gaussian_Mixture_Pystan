{
 "cells": [
  {
   "cell_type": "code",
   "execution_count": 1,
   "metadata": {},
   "outputs": [],
   "source": [
    "from scipy.special import logsumexp\n",
    "from scipy.stats import norm\n",
    "import sys \n",
    "sys.argv[1]=1\n",
    "from main import *\n",
    "import os\n",
    "import pickle\n",
    "from plot_config import *\n",
    "import warnings\n",
    "warnings.filterwarnings(\"ignore\")"
   ]
  },
  {
   "cell_type": "code",
   "execution_count": 2,
   "metadata": {},
   "outputs": [
    {
     "data": {
      "text/plain": [
       "{'cluster_maximum': 7, 'power': 10, 'iterations': 4000, 'n_chains': 4}"
      ]
     },
     "execution_count": 2,
     "metadata": {},
     "output_type": "execute_result"
    }
   ],
   "source": [
    "# power will change when readed to list 10** [200, 1000, 5000, 10000, 20000]\n",
    "mcmc_setup"
   ]
  },
  {
   "cell_type": "code",
   "execution_count": 3,
   "metadata": {},
   "outputs": [
    {
     "data": {
      "text/plain": [
       "{'power': 10, 'gem_alpha': 0.5}"
      ]
     },
     "execution_count": 3,
     "metadata": {},
     "output_type": "execute_result"
    }
   ],
   "source": [
    "model_setup"
   ]
  },
  {
   "cell_type": "code",
   "execution_count": 4,
   "metadata": {},
   "outputs": [
    {
     "data": {
      "text/plain": [
       "{'alpha': 500,\n",
       " 'n_sample': 5000,\n",
       " 'w0': [0.7, 0.3],\n",
       " 'mu0': [-2, 2],\n",
       " 'sigma0': [0.7, 0.8]}"
      ]
     },
     "execution_count": 4,
     "metadata": {},
     "output_type": "execute_result"
    }
   ],
   "source": [
    "data_config"
   ]
  },
  {
   "cell_type": "code",
   "execution_count": 5,
   "metadata": {},
   "outputs": [],
   "source": [
    "power_list = 10**np.round(np.linspace(1,4,31),1)"
   ]
  },
  {
   "cell_type": "markdown",
   "metadata": {},
   "source": [
    "# 1. Load Fitted Model"
   ]
  },
  {
   "cell_type": "markdown",
   "metadata": {},
   "source": [
    "*** Need to run Rob_bayes_Experiment.py first to generate .pickle files"
   ]
  },
  {
   "cell_type": "code",
   "execution_count": 6,
   "metadata": {},
   "outputs": [],
   "source": [
    "def generate_list(path):\n",
    "    \"\"\"\n",
    "        Function to generate a list of fitted stan name\n",
    "    \n",
    "    \"\"\"\n",
    "    files = os.listdir(path)\n",
    "\n",
    "    data_list = []\n",
    "    fitted_exact = []\n",
    "    fitted_approx = []\n",
    "    fitted_standard = []\n",
    "\n",
    "    for sub_files in files:\n",
    "        if sub_files.startswith('fit_correct'):\n",
    "            fitted_exact.append(sub_files)\n",
    "        elif sub_files.startswith('fit_approx'):\n",
    "            fitted_approx.append(sub_files)\n",
    "        elif sub_files.startswith('fit_standard'):\n",
    "            fitted_standard.append(sub_files)\n",
    "        elif sub_files.startswith('data'):\n",
    "            data_list.append(sub_files)\n",
    "    return fitted_standard, fitted_exact, fitted_approx, data_list\n",
    "\n",
    "    \n",
    "\n",
    "def load_fitted_object(pickle_names, path):\n",
    "    \"\"\"\n",
    "        Function to load pickle object,\n",
    "        params: names, List of pickle names\n",
    "        params: directory to which the those pickles are stored\n",
    "\n",
    "    \"\"\"\n",
    "    List = []\n",
    "    for sub_name in pickle_names:\n",
    "        print(path + sub_name)\n",
    "        with open(path + sub_name, \"rb\") as f:\n",
    "            fitted_object = pickle.load(f)\n",
    "\n",
    "        List.append(fitted_object)\n",
    "    return List\n",
    "\n",
    "def estimate_pi_k(fitted_object, threshold = 0.02):\n",
    "    \"\"\"\n",
    "        Function to estimate the probability of total clusters equal to k,\n",
    "        params: fitted_object, fitted pystan object, \n",
    "        return, prob_list, a list of probabilities indicating cluster equal to k.\n",
    "\n",
    "    \"\"\"\n",
    "    total_samples = mcmc_setup['iterations'] * mcmc_setup['n_chains']/2\n",
    "    prob_list = []\n",
    "    for i in range(1, mcmc_setup['cluster_maximum']+1):\n",
    "        prob_list.append(\n",
    "            np.sum(np.sum(fitted_object['fit']['theta'] > threshold, axis=1) == i) / total_samples)\n",
    "\n",
    "    return prob_list    \n",
    "\n",
    "\n",
    "def p_xj(i, fitted_object):\n",
    "    \"\"\"\n",
    "        Sub function to calculate the pxj using weight * prob (i| mu, sigma) for the i th sample\n",
    "    \"\"\"\n",
    "    \n",
    "    normal_density = lambda  x, mu, sigma2: 0.5/np.pi *np.exp( -(x-mu)**2/ (2*sigma2) )\n",
    "\n",
    "\n",
    "    n = int(mcmc_setup['iterations'] * mcmc_setup['n_chains']/2)\n",
    "\n",
    "    f_x = normal_density(i, fitted_object['fit']['mu'].reshape([n , mcmc_setup['cluster_maximum']]), fitted_object['fit']['sigma2'])\n",
    "\n",
    "    weights = fitted_object['fit']['theta']\n",
    "    \n",
    "    return np.sum(f_x * weights, axis=1)\n",
    "\n",
    "\n",
    "\n",
    "\n",
    "def calc_loglikeli_changed2(fitted_object):\n",
    "    \"\"\"\n",
    "        Function to calculate the log likelihood using the posterior samples\n",
    "    \"\"\"\n",
    "        \n",
    "    n = int(mcmc_setup['iterations'] * mcmc_setup['n_chains']/2)\n",
    "    data = fitted_object['fit'].data['y']\n",
    "    log_theta = fitted_object['fit']['theta']\n",
    "    \n",
    "    mu_matrix = fitted_object['fit']['mu']\n",
    "    mu_matrix = mu_matrix.reshape([1, n , mcmc_setup['cluster_maximum']])\n",
    "\n",
    "    sigma2_matrix = fitted_object['fit']['sigma2']\n",
    "    sigma2_matrix = sigma2_matrix.reshape([1, n, mcmc_setup['cluster_maximum']])\n",
    "\n",
    "    data = np.reshape(data, [data_config['n_sample'],1, 1])\n",
    "\n",
    "    lnorm_pdf = np.log(norm.pdf(data, mu_matrix, sigma2_matrix))\n",
    "\n",
    "    lnorm_pdf_total = np.sum(lnorm_pdf, axis=0)\n",
    "    \n",
    "    return np.mean(logsumexp( log_theta + lnorm_pdf_total, axis=1))\n",
    "\n",
    "\n",
    "\n",
    "def load_estimate_pi_k(path, model, threshold = 0.02 ,neighbor= 2):\n",
    "    \"\"\"\n",
    "        Function to generaete a plot indicating how many clusters are there\n",
    "        params: path, directory to which the those pickles are stored\n",
    "\n",
    "    \"\"\"\n",
    "    regex_alpha = r''+str(model)+'(\\d.*?).pickle'\n",
    "    pat_alpha = re.compile(regex_alpha, re.S)\n",
    "    fitted_standard, fitted_exact, fitted_approx, data_list = generate_list(\n",
    "    path)\n",
    "    power_list = np.array(pat_alpha.findall(str(fitted_exact)[1:-1]), dtype=float)\n",
    "    \n",
    "    if model == 'fit_correct':\n",
    "        model_list= [fitted_exact]\n",
    "    elif model == 'fit_approx':\n",
    "        model_list= [fitted_approx]\n",
    "    \n",
    "    like_li_list = []\n",
    "    pi_k_list = []\n",
    "    for model_names in model_list:\n",
    "        #plt.figure(figsize=(10, 6))\n",
    "        fitted_model = load_fitted_object(model_names, path)\n",
    "        \n",
    "        for model_object in fitted_model:\n",
    "            like_li_list.append(calc_loglikeli_changed2(model_object))\n",
    "            \n",
    "            pi_k_list.append(np.dot(range(1, mcmc_setup['cluster_maximum']+1),estimate_pi_k(model_object, threshold = threshold)))\n",
    "            \n",
    "            \n",
    "    \n",
    "    plt.scatter(pi_k_list,like_li_list)\n",
    "    plt.title('Calibration of Alpha for ' + str(model)+ '')\n",
    "    plt.ylabel('E[LogLikeli |data]')\n",
    "    plt.xlabel('E[K_{2%}|data]')\n",
    "    try:\n",
    "        close_to_true = np.argpartition(np.abs(np.array(pi_k_list) - len(data_config['w0'])), neighbor)[:neighbor]\n",
    "        alpha_index = np.argmax(np.array(like_li_list)[close_to_true])\n",
    "        best_alpha = power_list[close_to_true][alpha_index]\n",
    "        likeli_correct = np.array(like_li_list)[close_to_true]\n",
    "        plt.plot(np.array(pi_k_list)[close_to_true][alpha_index], likeli_correct[alpha_index], 'rx')\n",
    "        plt.text(np.array(pi_k_list)[close_to_true][alpha_index], likeli_correct[alpha_index], 'alpha='+str(np.round(best_alpha,2)))\n",
    "    except:\n",
    "        print('No alpha could give the correct cluster number')\n",
    "\n",
    "\n",
    "    return like_li_list, pi_k_list, power_list\n",
    "\n",
    "\n",
    "\n",
    "def plot_estimate_pi_k(model, path, alpha= None):\n",
    "    \n",
    "    if model =='fit_correct':\n",
    "        files = np.load( path +'fit_correct.npz')        \n",
    "    elif model =='fit_approx':\n",
    "        files = np.load(path + 'fit_approx.npz')\n",
    "    \n",
    "    like_li_list = files['arr_0']    \n",
    "    pi_k_list = files['arr_1']    \n",
    "    power_list = files['arr_2']\n",
    "    \n",
    "    left_point_index = np.argmin(pi_k_list)\n",
    "\n",
    "    left_cluster = pi_k_list[left_point_index]\n",
    "    left_likeli = like_li_list[left_point_index]\n",
    "\n",
    "    flag1 = (like_li_list <= left_likeli)\n",
    "    flag2 = (like_li_list >= left_likeli)\n",
    "    lower_plot = np.array([ like_li_list, pi_k_list])[:,flag1]\n",
    "    upper_plot = np.array([ like_li_list, pi_k_list])[:,flag2]\n",
    "    plt.figure(figsize=(10, 6))\n",
    "    plt.plot(lower_plot[1][lower_plot.argsort()[1]], lower_plot[0][lower_plot.argsort()[1]], 'b')\n",
    "    plt.plot(upper_plot[1][upper_plot.argsort()[1]], upper_plot[0][upper_plot.argsort()[1]], 'b')\n",
    "\n",
    "    plt.plot(left_cluster, left_likeli, 'rx')\n",
    "    \n",
    "    plt.text(left_cluster, left_likeli, 'alpha='+str(np.round(power_list[left_point_index],2)))\n",
    "\n",
    "    plt.title('Calibration of Alpha for ' + str(model)+ '')\n",
    "    plt.ylabel('E[LogLikeli |data]')\n",
    "    plt.xlabel('E[K_{2%}|data]')\n",
    "    if alpha is not None:\n",
    "        \n",
    "        plt.plot(pi_k_list [[power_list == alpha]], like_li_list [power_list == alpha], 'gx')\n",
    "        plt.text(pi_k_list [[power_list == alpha]], like_li_list [power_list == alpha], 'alpha=' + str(np.round(power_list[power_list==alpha],2)[0]))\n",
    "\n",
    "    \n",
    "        \n",
    "        "
   ]
  },
  {
   "cell_type": "code",
   "execution_count": null,
   "metadata": {},
   "outputs": [],
   "source": [
    "path = \"Alpha_result/\"\n",
    "data_names = generate_list(path)[-1]\n",
    "data_lists = load_fitted_object(data_names, path)\n",
    "\n",
    "n_sample_list = pat.findall(str(data_names))\n",
    "n_sample_cycler = cycle(n_sample_list)\n",
    "    \n",
    "for data in data_lists:\n",
    "    sns.distplot(data['pertubation'], label='Pertubated_Data')\n",
    "    sns.distplot(data['true'], label='True_Data')\n",
    "    plt.title('n_sample = ' + next(n_sample_cycler))\n",
    "    plt.legend()\n",
    "    plt.show()"
   ]
  },
  {
   "cell_type": "markdown",
   "metadata": {},
   "source": [
    "# 2.  Estimating the Probabilities of Total Clusters"
   ]
  },
  {
   "cell_type": "code",
   "execution_count": 14,
   "metadata": {},
   "outputs": [
    {
     "name": "stdout",
     "output_type": "stream",
     "text": [
      "Alpha_result/fit_approx1258.pickle\n",
      "Alpha_result/fit_approx251.pickle\n",
      "Alpha_result/fit_approx19.pickle\n",
      "Alpha_result/fit_approx5011.pickle\n",
      "Alpha_result/fit_approx1000.pickle\n",
      "Alpha_result/fit_approx12.pickle\n",
      "Alpha_result/fit_approx7943.pickle\n",
      "Alpha_result/fit_approx158.pickle\n",
      "Alpha_result/fit_approx630.pickle\n",
      "Alpha_result/fit_approx.npz\n"
     ]
    },
    {
     "ename": "UnpicklingError",
     "evalue": "A load persistent id instruction was encountered,\nbut no persistent_load function was specified.",
     "output_type": "error",
     "traceback": [
      "\u001b[0;31m---------------------------------------------------------------------------\u001b[0m",
      "\u001b[0;31mUnpicklingError\u001b[0m                           Traceback (most recent call last)",
      "\u001b[0;32m<ipython-input-14-12af3db87bab>\u001b[0m in \u001b[0;36m<module>\u001b[0;34m()\u001b[0m\n\u001b[0;32m----> 1\u001b[0;31m \u001b[0ma\u001b[0m\u001b[0;34m,\u001b[0m\u001b[0mb\u001b[0m\u001b[0;34m,\u001b[0m\u001b[0mc\u001b[0m \u001b[0;34m=\u001b[0m \u001b[0mload_estimate_pi_k\u001b[0m\u001b[0;34m(\u001b[0m\u001b[0mpath\u001b[0m\u001b[0;34m,\u001b[0m \u001b[0;34m'fit_approx'\u001b[0m\u001b[0;34m,\u001b[0m \u001b[0mthreshold\u001b[0m \u001b[0;34m=\u001b[0m \u001b[0;36m0.02\u001b[0m \u001b[0;34m,\u001b[0m\u001b[0mneighbor\u001b[0m\u001b[0;34m=\u001b[0m \u001b[0;36m2\u001b[0m\u001b[0;34m)\u001b[0m\u001b[0;34m\u001b[0m\u001b[0m\n\u001b[0m",
      "\u001b[0;32m<ipython-input-6-3f65bacc1664>\u001b[0m in \u001b[0;36mload_estimate_pi_k\u001b[0;34m(path, model, threshold, neighbor)\u001b[0m\n\u001b[1;32m    121\u001b[0m     \u001b[0;32mfor\u001b[0m \u001b[0mmodel_names\u001b[0m \u001b[0;32min\u001b[0m \u001b[0mmodel_list\u001b[0m\u001b[0;34m:\u001b[0m\u001b[0;34m\u001b[0m\u001b[0m\n\u001b[1;32m    122\u001b[0m         \u001b[0;31m#plt.figure(figsize=(10, 6))\u001b[0m\u001b[0;34m\u001b[0m\u001b[0;34m\u001b[0m\u001b[0m\n\u001b[0;32m--> 123\u001b[0;31m         \u001b[0mfitted_model\u001b[0m \u001b[0;34m=\u001b[0m \u001b[0mload_fitted_object\u001b[0m\u001b[0;34m(\u001b[0m\u001b[0mmodel_names\u001b[0m\u001b[0;34m,\u001b[0m \u001b[0mpath\u001b[0m\u001b[0;34m)\u001b[0m\u001b[0;34m\u001b[0m\u001b[0m\n\u001b[0m\u001b[1;32m    124\u001b[0m \u001b[0;34m\u001b[0m\u001b[0m\n\u001b[1;32m    125\u001b[0m         \u001b[0;32mfor\u001b[0m \u001b[0mmodel_object\u001b[0m \u001b[0;32min\u001b[0m \u001b[0mfitted_model\u001b[0m\u001b[0;34m:\u001b[0m\u001b[0;34m\u001b[0m\u001b[0m\n",
      "\u001b[0;32m<ipython-input-6-3f65bacc1664>\u001b[0m in \u001b[0;36mload_fitted_object\u001b[0;34m(pickle_names, path)\u001b[0m\n\u001b[1;32m     35\u001b[0m         \u001b[0mprint\u001b[0m\u001b[0;34m(\u001b[0m\u001b[0mpath\u001b[0m \u001b[0;34m+\u001b[0m \u001b[0msub_name\u001b[0m\u001b[0;34m)\u001b[0m\u001b[0;34m\u001b[0m\u001b[0m\n\u001b[1;32m     36\u001b[0m         \u001b[0;32mwith\u001b[0m \u001b[0mopen\u001b[0m\u001b[0;34m(\u001b[0m\u001b[0mpath\u001b[0m \u001b[0;34m+\u001b[0m \u001b[0msub_name\u001b[0m\u001b[0;34m,\u001b[0m \u001b[0;34m\"rb\"\u001b[0m\u001b[0;34m)\u001b[0m \u001b[0;32mas\u001b[0m \u001b[0mf\u001b[0m\u001b[0;34m:\u001b[0m\u001b[0;34m\u001b[0m\u001b[0m\n\u001b[0;32m---> 37\u001b[0;31m             \u001b[0mfitted_object\u001b[0m \u001b[0;34m=\u001b[0m \u001b[0mpickle\u001b[0m\u001b[0;34m.\u001b[0m\u001b[0mload\u001b[0m\u001b[0;34m(\u001b[0m\u001b[0mf\u001b[0m\u001b[0;34m)\u001b[0m\u001b[0;34m\u001b[0m\u001b[0m\n\u001b[0m\u001b[1;32m     38\u001b[0m \u001b[0;34m\u001b[0m\u001b[0m\n\u001b[1;32m     39\u001b[0m         \u001b[0mList\u001b[0m\u001b[0;34m.\u001b[0m\u001b[0mappend\u001b[0m\u001b[0;34m(\u001b[0m\u001b[0mfitted_object\u001b[0m\u001b[0;34m)\u001b[0m\u001b[0;34m\u001b[0m\u001b[0m\n",
      "\u001b[0;31mUnpicklingError\u001b[0m: A load persistent id instruction was encountered,\nbut no persistent_load function was specified."
     ]
    }
   ],
   "source": [
    "#a,b,c = load_estimate_pi_k(path, 'fit_approx', threshold = 0.02 ,neighbor= 2)\n",
    "#np.savez('Alpha_result/fit_correct.npz',a ,b, c)"
   ]
  },
  {
   "cell_type": "code",
   "execution_count": 56,
   "metadata": {},
   "outputs": [
    {
     "data": {
      "image/png": "[encoded data removed]",
      "text/plain": [
       "<Figure size 720x432 with 1 Axes>"
      ]
     },
     "metadata": {},
     "output_type": "display_data"
    }
   ],
   "source": [
    "plot_estimate_pi_k('fit_approx', path)"
   ]
  },
  {
   "cell_type": "markdown",
   "metadata": {},
   "source": [
    "# 3. Divergence Analysis"
   ]
  },
  {
   "cell_type": "markdown",
   "metadata": {},
   "source": [
    "****** First Input the name of fitted pickle that you want to check for divergence"
   ]
  },
  {
   "cell_type": "code",
   "execution_count": 7,
   "metadata": {},
   "outputs": [],
   "source": [
    "path = 'Alpha_result/'"
   ]
  },
  {
   "cell_type": "code",
   "execution_count": null,
   "metadata": {},
   "outputs": [],
   "source": [
    "fitted_names = ['fit_correct10000.pickle']\n",
    "fitted_object = load_fitted_object(fitted_names, path)[0]\n",
    "data = load_fitted_object(['data' + pat.findall(str(fitted_names))[0] + '.pickle'], path)[0]"
   ]
  },
  {
   "cell_type": "markdown",
   "metadata": {},
   "source": [
    "## 3.1 $R_{hat}$ table, trace plot, autocorrelation plot and  pair plot"
   ]
  },
  {
   "cell_type": "code",
   "execution_count": null,
   "metadata": {
    "scrolled": false
   },
   "outputs": [],
   "source": [
    "az_v_theta_plot(fitted_object['fit'])"
   ]
  },
  {
   "cell_type": "code",
   "execution_count": null,
   "metadata": {
    "scrolled": false
   },
   "outputs": [],
   "source": [
    "az_mu_sigma_plot(fitted_object['fit'])"
   ]
  },
  {
   "cell_type": "code",
   "execution_count": null,
   "metadata": {},
   "outputs": [],
   "source": [
    "fitted_object['model'].show()"
   ]
  },
  {
   "cell_type": "markdown",
   "metadata": {},
   "source": [
    "## 3.2 Trace plot with P(k=j) > threshold"
   ]
  },
  {
   "cell_type": "code",
   "execution_count": null,
   "metadata": {},
   "outputs": [],
   "source": [
    "y_hat = plot( fitted_object ,threshold = 0.02)\n",
    "plt.title(fitted_names[0] )"
   ]
  },
  {
   "cell_type": "markdown",
   "metadata": {},
   "source": [
    "# 4. Predictive Posterior Check"
   ]
  },
  {
   "cell_type": "code",
   "execution_count": null,
   "metadata": {},
   "outputs": [],
   "source": [
    "plt.figure(figsize=(10, 6))\n",
    "sns.distplot(data['true'], label='True Y')\n",
    "sns.distplot(y_hat, label ='Y hat')\n",
    "plt.title('Posterior Prediective')\n",
    "plt.legend()"
   ]
  },
  {
   "cell_type": "code",
   "execution_count": null,
   "metadata": {},
   "outputs": [],
   "source": [
    "# sampling code for posterior check\n",
    "pred_y = []\n",
    "for j in range(np.shape(fit['fit'].to_dataframe())[0]):\n",
    "\n",
    "    k_temp = np.random.multinomial(1, fit['fit'].extract('theta')['theta'][j, :])\n",
    "    mu_temp = fit['fit'].extract('mu')['mu'][j, :]\n",
    "    sigma_temp = fit['fit'].extract('sigma2')['sigma2'][j, :]\n",
    "\n",
    "    pos_mu = np.dot(mu_temp.T, k_temp)\n",
    "    pos_sigma = np.dot(sigma_temp.T, k_temp)\n",
    "    pred_y.append(np.random.normal(pos_mu, np.sqrt(pos_sigma)))\n"
   ]
  }
 ],
 "metadata": {
  "kernelspec": {
   "display_name": "Python 3",
   "language": "python",
   "name": "python3"
  },
  "language_info": {
   "codemirror_mode": {
    "name": "ipython",
    "version": 3
   },
   "file_extension": ".py",
   "mimetype": "text/x-python",
   "name": "python",
   "nbconvert_exporter": "python",
   "pygments_lexer": "ipython3",
   "version": "3.6.5"
  },
  "varInspector": {
   "cols": {
    "lenName": 16,
    "lenType": 16,
    "lenVar": 40
   },
   "kernels_config": {
    "python": {
     "delete_cmd_postfix": "",
     "delete_cmd_prefix": "del ",
     "library": "var_list.py",
     "varRefreshCmd": "print(var_dic_list())"
    },
    "r": {
     "delete_cmd_postfix": ") ",
     "delete_cmd_prefix": "rm(",
     "library": "var_list.r",
     "varRefreshCmd": "cat(var_dic_list()) "
    }
   },
   "types_to_exclude": [
    "module",
    "function",
    "builtin_function_or_method",
    "instance",
    "_Feature"
   ],
   "window_display": false
  }
 },
 "nbformat": 4,
 "nbformat_minor": 2
}
